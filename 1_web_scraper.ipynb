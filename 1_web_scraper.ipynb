{
 "cells": [
  {
   "cell_type": "markdown",
   "metadata": {},
   "source": [
    "# Scrape movie sequel data from Box Office Mojo "
   ]
  },
  {
   "cell_type": "code",
   "execution_count": 200,
   "metadata": {},
   "outputs": [],
   "source": [
    "import requests\n",
    "import time\n",
    "import random\n",
    "import pandas as pd\n",
    "from bs4 import BeautifulSoup"
   ]
  },
  {
   "cell_type": "markdown",
   "metadata": {},
   "source": [
    "Get data from Box Office Mojo. This doesn't lump in Marvel Cinematic Universe data as one series (or other examples), only includes movies in box office (as direct to video sales are very spotty)"
   ]
  },
  {
   "cell_type": "markdown",
   "metadata": {},
   "source": [
    "## Scrape list of franchises and franchise summary webpages"
   ]
  },
  {
   "cell_type": "code",
   "execution_count": 69,
   "metadata": {},
   "outputs": [],
   "source": [
    "url = 'http://www.boxofficemojo.com/franchises/'\n",
    "response = requests.get(url)\n",
    "response.status_code\n",
    "# print(response.text)\n",
    "page = response.text\n",
    "soup = BeautifulSoup(page,\"lxml\")"
   ]
  },
  {
   "cell_type": "markdown",
   "metadata": {},
   "source": [
    "Get list of webpage links for franchises"
   ]
  },
  {
   "cell_type": "code",
   "execution_count": 76,
   "metadata": {},
   "outputs": [
    {
     "name": "stdout",
     "output_type": "stream",
     "text": [
      "['http://www.boxofficemojo.com/franchises/chart/?id=3ninjas.htm', 'http://www.boxofficemojo.com/franchises/chart/?id=300.htm', 'http://www.boxofficemojo.com/franchises/chart/?id=agathachristie.htm', 'http://www.boxofficemojo.com/franchises/chart/?id=alexcross.htm', 'http://www.boxofficemojo.com/franchises/chart/?id=aliceinwonderland.htm']\n",
      "['3 Ninjas', '300', 'Agatha Christie', 'Alex Cross', 'Alice in Wonderland']\n"
     ]
    }
   ],
   "source": [
    "site_link = \"http://www.boxofficemojo.com/franchises\"\n",
    "franchise_table = soup.find_all('table')[3]\n",
    "franchise_links = []\n",
    "franchise_list = []\n",
    "for franchise in franchise_table.find_all('tr')[1:]:\n",
    "    franchise_link.append(site_link + (franchise.find('a')['href'][1:]))\n",
    "    franchise_name.append(franchise.find('a').text)\n",
    "print(franchise_links[:5])\n",
    "print(franchise_list[:5])"
   ]
  },
  {
   "cell_type": "code",
   "execution_count": 221,
   "metadata": {},
   "outputs": [
    {
     "name": "stdout",
     "output_type": "stream",
     "text": [
      "There are 254 movie franchises with at least one box office sequel.\n"
     ]
    }
   ],
   "source": [
    "print(f'There are {len(franchise_link)} movie franchises with at least one box office sequel.')"
   ]
  },
  {
   "cell_type": "markdown",
   "metadata": {},
   "source": [
    "## Proof of concept for webscrape to data frame pipeline: single franchise"
   ]
  },
  {
   "cell_type": "markdown",
   "metadata": {},
   "source": [
    "Scrape basic movie data (7 features) from the summary page for each franchise - rank, title, adjusted gross domestic, gross theathers, adjusted opening, adjusted theaters, release date, plus a list of individual movie websites for getting more data if needed"
   ]
  },
  {
   "cell_type": "code",
   "execution_count": 210,
   "metadata": {},
   "outputs": [],
   "source": [
    "franchise_name = []\n",
    "movie_title = []\n",
    "rank = []\n",
    "studio = []\n",
    "adjusted_domestic_gross = []\n",
    "theaters = []\n",
    "\"\"\"\n",
    "number of theaters is in the 4th table, not the 5th table - will have to generate\n",
    "a separate for loop to get this value\n",
    "theater_raw = franchise.find_all('td')[4].text\n",
    "    theaters.append(theater_raw.replace(',',''))\n",
    "    # need to convert to datetime object\n",
    "\"\"\"\n",
    "release = []\n",
    "movie_webpage = []\n",
    "\n",
    "\n",
    "url = 'http://www.boxofficemojo.com/franchises/chart/?id=3ninjas.htm'\n",
    "response = requests.get(url)\n",
    "# print(response.status_code)\n",
    "page = response.text\n",
    "soup = BeautifulSoup(page,\"lxml\")\n",
    "\n",
    "\n",
    "franchise_table = soup.find_all('table')[5]\n",
    "for franchise in franchise_table.find_all('tr')[1:-2]:\n",
    "    movie_title.append(franchise.find_all('td')[1].text)\n",
    "    rank.append(int(franchise.find_all('td')[0].text))\n",
    "    studio.append(franchise.find_all('td')[2].text)\n",
    "    adj_domestic_gross_str = franchise.find_all('td')[3].text[1:]\n",
    "    adjusted_domestic_gross.append(adj_domestic_gross_str.replace(',', ''))\n",
    "    release_str = franchise.find_all('td')[5].text\n",
    "    release.append(pd.to_datetime(release_str))\n",
    "    franchise_name.append(soup.find('h1').text)\n",
    "    movie_webpage.append(site_link + franchise.find('a')['href'])"
   ]
  },
  {
   "cell_type": "code",
   "execution_count": 211,
   "metadata": {},
   "outputs": [],
   "source": [
    "df = pd.DataFrame(\n",
    "    {'franchise_name': franchise_name,\n",
    "     'movie_title': movie_title,\n",
    "     'rank': rank,\n",
    "     'studio': studio,\n",
    "     'adjusted_domestic_gross': adjusted_domestic_gross,\n",
    "#     'n_theaters': theaters,\n",
    "     'release_date': release,\n",
    "    })"
   ]
  },
  {
   "cell_type": "code",
   "execution_count": 212,
   "metadata": {},
   "outputs": [
    {
     "data": {
      "text/plain": [
       "['http://www.boxofficemojo.com/franchises/movies/?id=3ninjas.htm',\n",
       " 'http://www.boxofficemojo.com/franchises/movies/?id=3ninjaskickback.htm',\n",
       " 'http://www.boxofficemojo.com/franchises/movies/?id=3ninjasknuckleup.htm',\n",
       " 'http://www.boxofficemojo.com/franchises/movies/?id=3ninjas4.htm']"
      ]
     },
     "execution_count": 212,
     "metadata": {},
     "output_type": "execute_result"
    }
   ],
   "source": [
    "movie_webpage"
   ]
  },
  {
   "cell_type": "code",
   "execution_count": 213,
   "metadata": {},
   "outputs": [
    {
     "data": {
      "text/html": [
       "<div>\n",
       "<style scoped>\n",
       "    .dataframe tbody tr th:only-of-type {\n",
       "        vertical-align: middle;\n",
       "    }\n",
       "\n",
       "    .dataframe tbody tr th {\n",
       "        vertical-align: top;\n",
       "    }\n",
       "\n",
       "    .dataframe thead th {\n",
       "        text-align: right;\n",
       "    }\n",
       "</style>\n",
       "<table border=\"1\" class=\"dataframe\">\n",
       "  <thead>\n",
       "    <tr style=\"text-align: right;\">\n",
       "      <th></th>\n",
       "      <th>franchise_name</th>\n",
       "      <th>movie_title</th>\n",
       "      <th>rank</th>\n",
       "      <th>studio</th>\n",
       "      <th>adjusted_domestic_gross</th>\n",
       "      <th>release_date</th>\n",
       "    </tr>\n",
       "  </thead>\n",
       "  <tbody>\n",
       "    <tr>\n",
       "      <th>0</th>\n",
       "      <td>3 Ninjas</td>\n",
       "      <td>3 Ninjas</td>\n",
       "      <td>1</td>\n",
       "      <td>BV</td>\n",
       "      <td>64010300</td>\n",
       "      <td>1992-08-07</td>\n",
       "    </tr>\n",
       "    <tr>\n",
       "      <th>1</th>\n",
       "      <td>3 Ninjas</td>\n",
       "      <td>3 Ninjas Kick Back</td>\n",
       "      <td>2</td>\n",
       "      <td>TriS</td>\n",
       "      <td>25855900</td>\n",
       "      <td>1994-05-06</td>\n",
       "    </tr>\n",
       "    <tr>\n",
       "      <th>2</th>\n",
       "      <td>3 Ninjas</td>\n",
       "      <td>3 Ninjas Knuckle Up</td>\n",
       "      <td>3</td>\n",
       "      <td>Sony</td>\n",
       "      <td>870700</td>\n",
       "      <td>1995-03-10</td>\n",
       "    </tr>\n",
       "    <tr>\n",
       "      <th>3</th>\n",
       "      <td>3 Ninjas</td>\n",
       "      <td>3 Ninjas: High Noon at Mega Mountain</td>\n",
       "      <td>4</td>\n",
       "      <td>Sony</td>\n",
       "      <td>734000</td>\n",
       "      <td>1998-04-10</td>\n",
       "    </tr>\n",
       "  </tbody>\n",
       "</table>\n",
       "</div>"
      ],
      "text/plain": [
       "  franchise_name                           movie_title  rank studio  \\\n",
       "0       3 Ninjas                              3 Ninjas     1     BV   \n",
       "1       3 Ninjas                    3 Ninjas Kick Back     2   TriS   \n",
       "2       3 Ninjas                   3 Ninjas Knuckle Up     3   Sony   \n",
       "3       3 Ninjas  3 Ninjas: High Noon at Mega Mountain     4   Sony   \n",
       "\n",
       "  adjusted_domestic_gross release_date  \n",
       "0                64010300   1992-08-07  \n",
       "1                25855900   1994-05-06  \n",
       "2                  870700   1995-03-10  \n",
       "3                  734000   1998-04-10  "
      ]
     },
     "execution_count": 213,
     "metadata": {},
     "output_type": "execute_result"
    }
   ],
   "source": [
    "df.head()"
   ]
  },
  {
   "cell_type": "markdown",
   "metadata": {},
   "source": [
    "Create variables 'prior_movie_date' and 'prior_movie_studio', then get the difference between the two.  The value for the first movie in each franchise will be NaN because there is no previous movie to compare it to. "
   ]
  },
  {
   "cell_type": "code",
   "execution_count": 214,
   "metadata": {},
   "outputs": [],
   "source": [
    "df[['prior_movie_studio', 'prior_movie_release_date']] = df.groupby(['franchise_name'])['studio','release_date'].transform(lambda grp: grp.shift(1))"
   ]
  },
  {
   "cell_type": "code",
   "execution_count": 215,
   "metadata": {},
   "outputs": [
    {
     "data": {
      "text/html": [
       "<div>\n",
       "<style scoped>\n",
       "    .dataframe tbody tr th:only-of-type {\n",
       "        vertical-align: middle;\n",
       "    }\n",
       "\n",
       "    .dataframe tbody tr th {\n",
       "        vertical-align: top;\n",
       "    }\n",
       "\n",
       "    .dataframe thead th {\n",
       "        text-align: right;\n",
       "    }\n",
       "</style>\n",
       "<table border=\"1\" class=\"dataframe\">\n",
       "  <thead>\n",
       "    <tr style=\"text-align: right;\">\n",
       "      <th></th>\n",
       "      <th>franchise_name</th>\n",
       "      <th>movie_title</th>\n",
       "      <th>rank</th>\n",
       "      <th>studio</th>\n",
       "      <th>adjusted_domestic_gross</th>\n",
       "      <th>release_date</th>\n",
       "      <th>prior_movie_studio</th>\n",
       "      <th>prior_movie_release_date</th>\n",
       "    </tr>\n",
       "  </thead>\n",
       "  <tbody>\n",
       "    <tr>\n",
       "      <th>0</th>\n",
       "      <td>3 Ninjas</td>\n",
       "      <td>3 Ninjas</td>\n",
       "      <td>1</td>\n",
       "      <td>BV</td>\n",
       "      <td>64010300</td>\n",
       "      <td>1992-08-07</td>\n",
       "      <td>NaN</td>\n",
       "      <td>NaT</td>\n",
       "    </tr>\n",
       "    <tr>\n",
       "      <th>1</th>\n",
       "      <td>3 Ninjas</td>\n",
       "      <td>3 Ninjas Kick Back</td>\n",
       "      <td>2</td>\n",
       "      <td>TriS</td>\n",
       "      <td>25855900</td>\n",
       "      <td>1994-05-06</td>\n",
       "      <td>BV</td>\n",
       "      <td>1992-08-07</td>\n",
       "    </tr>\n",
       "    <tr>\n",
       "      <th>2</th>\n",
       "      <td>3 Ninjas</td>\n",
       "      <td>3 Ninjas Knuckle Up</td>\n",
       "      <td>3</td>\n",
       "      <td>Sony</td>\n",
       "      <td>870700</td>\n",
       "      <td>1995-03-10</td>\n",
       "      <td>TriS</td>\n",
       "      <td>1994-05-06</td>\n",
       "    </tr>\n",
       "    <tr>\n",
       "      <th>3</th>\n",
       "      <td>3 Ninjas</td>\n",
       "      <td>3 Ninjas: High Noon at Mega Mountain</td>\n",
       "      <td>4</td>\n",
       "      <td>Sony</td>\n",
       "      <td>734000</td>\n",
       "      <td>1998-04-10</td>\n",
       "      <td>Sony</td>\n",
       "      <td>1995-03-10</td>\n",
       "    </tr>\n",
       "  </tbody>\n",
       "</table>\n",
       "</div>"
      ],
      "text/plain": [
       "  franchise_name                           movie_title  rank studio  \\\n",
       "0       3 Ninjas                              3 Ninjas     1     BV   \n",
       "1       3 Ninjas                    3 Ninjas Kick Back     2   TriS   \n",
       "2       3 Ninjas                   3 Ninjas Knuckle Up     3   Sony   \n",
       "3       3 Ninjas  3 Ninjas: High Noon at Mega Mountain     4   Sony   \n",
       "\n",
       "  adjusted_domestic_gross release_date prior_movie_studio  \\\n",
       "0                64010300   1992-08-07                NaN   \n",
       "1                25855900   1994-05-06                 BV   \n",
       "2                  870700   1995-03-10               TriS   \n",
       "3                  734000   1998-04-10               Sony   \n",
       "\n",
       "  prior_movie_release_date  \n",
       "0                      NaT  \n",
       "1               1992-08-07  \n",
       "2               1994-05-06  \n",
       "3               1995-03-10  "
      ]
     },
     "execution_count": 215,
     "metadata": {},
     "output_type": "execute_result"
    }
   ],
   "source": [
    "df.head()"
   ]
  },
  {
   "cell_type": "markdown",
   "metadata": {},
   "source": [
    "Get difference between release dates. "
   ]
  },
  {
   "cell_type": "code",
   "execution_count": 216,
   "metadata": {},
   "outputs": [],
   "source": [
    "df['time_since_prior_movie'] = df.release_date - df.prior_movie_release_date"
   ]
  },
  {
   "cell_type": "code",
   "execution_count": 217,
   "metadata": {},
   "outputs": [
    {
     "data": {
      "text/html": [
       "<div>\n",
       "<style scoped>\n",
       "    .dataframe tbody tr th:only-of-type {\n",
       "        vertical-align: middle;\n",
       "    }\n",
       "\n",
       "    .dataframe tbody tr th {\n",
       "        vertical-align: top;\n",
       "    }\n",
       "\n",
       "    .dataframe thead th {\n",
       "        text-align: right;\n",
       "    }\n",
       "</style>\n",
       "<table border=\"1\" class=\"dataframe\">\n",
       "  <thead>\n",
       "    <tr style=\"text-align: right;\">\n",
       "      <th></th>\n",
       "      <th>franchise_name</th>\n",
       "      <th>movie_title</th>\n",
       "      <th>rank</th>\n",
       "      <th>studio</th>\n",
       "      <th>adjusted_domestic_gross</th>\n",
       "      <th>release_date</th>\n",
       "      <th>prior_movie_studio</th>\n",
       "      <th>prior_movie_release_date</th>\n",
       "      <th>time_since_prior_movie</th>\n",
       "    </tr>\n",
       "  </thead>\n",
       "  <tbody>\n",
       "    <tr>\n",
       "      <th>0</th>\n",
       "      <td>3 Ninjas</td>\n",
       "      <td>3 Ninjas</td>\n",
       "      <td>1</td>\n",
       "      <td>BV</td>\n",
       "      <td>64010300</td>\n",
       "      <td>1992-08-07</td>\n",
       "      <td>NaN</td>\n",
       "      <td>NaT</td>\n",
       "      <td>NaT</td>\n",
       "    </tr>\n",
       "    <tr>\n",
       "      <th>1</th>\n",
       "      <td>3 Ninjas</td>\n",
       "      <td>3 Ninjas Kick Back</td>\n",
       "      <td>2</td>\n",
       "      <td>TriS</td>\n",
       "      <td>25855900</td>\n",
       "      <td>1994-05-06</td>\n",
       "      <td>BV</td>\n",
       "      <td>1992-08-07</td>\n",
       "      <td>637 days</td>\n",
       "    </tr>\n",
       "    <tr>\n",
       "      <th>2</th>\n",
       "      <td>3 Ninjas</td>\n",
       "      <td>3 Ninjas Knuckle Up</td>\n",
       "      <td>3</td>\n",
       "      <td>Sony</td>\n",
       "      <td>870700</td>\n",
       "      <td>1995-03-10</td>\n",
       "      <td>TriS</td>\n",
       "      <td>1994-05-06</td>\n",
       "      <td>308 days</td>\n",
       "    </tr>\n",
       "    <tr>\n",
       "      <th>3</th>\n",
       "      <td>3 Ninjas</td>\n",
       "      <td>3 Ninjas: High Noon at Mega Mountain</td>\n",
       "      <td>4</td>\n",
       "      <td>Sony</td>\n",
       "      <td>734000</td>\n",
       "      <td>1998-04-10</td>\n",
       "      <td>Sony</td>\n",
       "      <td>1995-03-10</td>\n",
       "      <td>1127 days</td>\n",
       "    </tr>\n",
       "  </tbody>\n",
       "</table>\n",
       "</div>"
      ],
      "text/plain": [
       "  franchise_name                           movie_title  rank studio  \\\n",
       "0       3 Ninjas                              3 Ninjas     1     BV   \n",
       "1       3 Ninjas                    3 Ninjas Kick Back     2   TriS   \n",
       "2       3 Ninjas                   3 Ninjas Knuckle Up     3   Sony   \n",
       "3       3 Ninjas  3 Ninjas: High Noon at Mega Mountain     4   Sony   \n",
       "\n",
       "  adjusted_domestic_gross release_date prior_movie_studio  \\\n",
       "0                64010300   1992-08-07                NaN   \n",
       "1                25855900   1994-05-06                 BV   \n",
       "2                  870700   1995-03-10               TriS   \n",
       "3                  734000   1998-04-10               Sony   \n",
       "\n",
       "  prior_movie_release_date time_since_prior_movie  \n",
       "0                      NaT                    NaT  \n",
       "1               1992-08-07               637 days  \n",
       "2               1994-05-06               308 days  \n",
       "3               1995-03-10              1127 days  "
      ]
     },
     "execution_count": 217,
     "metadata": {},
     "output_type": "execute_result"
    }
   ],
   "source": [
    "df.head()"
   ]
  },
  {
   "cell_type": "markdown",
   "metadata": {},
   "source": [
    "Below is getting data from The Numbers - include direct-to-video movies which is interesting, but they don't have sales data for all of those direct to video releases so it's tougher to assess. It might be useful down the line."
   ]
  },
  {
   "cell_type": "markdown",
   "metadata": {},
   "source": [
    "## Generalizing to the full dataset: scraping basic features from 254 franchises"
   ]
  },
  {
   "cell_type": "code",
   "execution_count": 205,
   "metadata": {},
   "outputs": [
    {
     "name": "stdout",
     "output_type": "stream",
     "text": [
      "Sleeping for ~12 seconds before next scrape.\n",
      "Sleeping for ~11 seconds before next scrape.\n",
      "Sleeping for ~10 seconds before next scrape.\n",
      "Sleeping for ~11 seconds before next scrape.\n",
      "Sleeping for ~13 seconds before next scrape.\n"
     ]
    },
    {
     "data": {
      "text/html": [
       "<div>\n",
       "<style scoped>\n",
       "    .dataframe tbody tr th:only-of-type {\n",
       "        vertical-align: middle;\n",
       "    }\n",
       "\n",
       "    .dataframe tbody tr th {\n",
       "        vertical-align: top;\n",
       "    }\n",
       "\n",
       "    .dataframe thead th {\n",
       "        text-align: right;\n",
       "    }\n",
       "</style>\n",
       "<table border=\"1\" class=\"dataframe\">\n",
       "  <thead>\n",
       "    <tr style=\"text-align: right;\">\n",
       "      <th></th>\n",
       "      <th>franchise_name</th>\n",
       "      <th>movie_title</th>\n",
       "      <th>rank</th>\n",
       "      <th>studio</th>\n",
       "      <th>adjusted_domestic_gross</th>\n",
       "      <th>release_date</th>\n",
       "    </tr>\n",
       "  </thead>\n",
       "  <tbody>\n",
       "    <tr>\n",
       "      <th>7</th>\n",
       "      <td>Alex Cross</td>\n",
       "      <td>Kiss the Girls</td>\n",
       "      <td>1</td>\n",
       "      <td>Par.</td>\n",
       "      <td>120792000</td>\n",
       "      <td>1997-10-03</td>\n",
       "    </tr>\n",
       "    <tr>\n",
       "      <th>8</th>\n",
       "      <td>Alex Cross</td>\n",
       "      <td>Along Came a Spider</td>\n",
       "      <td>2</td>\n",
       "      <td>Par.</td>\n",
       "      <td>119886200</td>\n",
       "      <td>2001-04-06</td>\n",
       "    </tr>\n",
       "    <tr>\n",
       "      <th>9</th>\n",
       "      <td>Alex Cross</td>\n",
       "      <td>Alex Cross</td>\n",
       "      <td>3</td>\n",
       "      <td>LG/S</td>\n",
       "      <td>29459100</td>\n",
       "      <td>2012-10-19</td>\n",
       "    </tr>\n",
       "    <tr>\n",
       "      <th>10</th>\n",
       "      <td>Alice in Wonderland</td>\n",
       "      <td>Alice in Wonderland (2010)</td>\n",
       "      <td>1</td>\n",
       "      <td>BV</td>\n",
       "      <td>385654200</td>\n",
       "      <td>2010-03-05</td>\n",
       "    </tr>\n",
       "    <tr>\n",
       "      <th>11</th>\n",
       "      <td>Alice in Wonderland</td>\n",
       "      <td>Alice Through the Looking Glass</td>\n",
       "      <td>2</td>\n",
       "      <td>BV</td>\n",
       "      <td>80883900</td>\n",
       "      <td>2016-05-27</td>\n",
       "    </tr>\n",
       "  </tbody>\n",
       "</table>\n",
       "</div>"
      ],
      "text/plain": [
       "         franchise_name                      movie_title  rank studio  \\\n",
       "7            Alex Cross                   Kiss the Girls     1   Par.   \n",
       "8            Alex Cross              Along Came a Spider     2   Par.   \n",
       "9            Alex Cross                       Alex Cross     3   LG/S   \n",
       "10  Alice in Wonderland       Alice in Wonderland (2010)     1     BV   \n",
       "11  Alice in Wonderland  Alice Through the Looking Glass     2     BV   \n",
       "\n",
       "   adjusted_domestic_gross release_date  \n",
       "7                120792000   1997-10-03  \n",
       "8                119886200   2001-04-06  \n",
       "9                 29459100   2012-10-19  \n",
       "10               385654200   2010-03-05  \n",
       "11                80883900   2016-05-27  "
      ]
     },
     "execution_count": 205,
     "metadata": {},
     "output_type": "execute_result"
    }
   ],
   "source": [
    "franchise_name = []\n",
    "movie_title = []\n",
    "rank = []\n",
    "studio = []\n",
    "adjusted_domestic_gross = []\n",
    "theaters = []\n",
    "\"\"\"\n",
    "number of theaters is in the 4th table, not the 5th table - will have to generate\n",
    "a separate for loop to get this value\n",
    "theater_raw = franchise.find_all('td')[4].text\n",
    "    theaters.append(theater_raw.replace(',',''))\n",
    "    # need to convert to datetime object\n",
    "\"\"\"\n",
    "release = []\n",
    "movie_webpage = []\n",
    "\n",
    "for url in franchise_links[:5]: \n",
    "    response = requests.get(url)\n",
    "    # print(response.status_code)\n",
    "    page = response.text\n",
    "    soup = BeautifulSoup(page,\"lxml\")\n",
    "\n",
    "    franchise_table = soup.find_all('table')[5]\n",
    "    for franchise in franchise_table.find_all('tr')[1:-2]:\n",
    "        movie_title.append(franchise.find_all('td')[1].text)\n",
    "        rank.append(int(franchise.find_all('td')[0].text))\n",
    "        studio.append(franchise.find_all('td')[2].text)\n",
    "        adj_domestic_gross_str = franchise.find_all('td')[3].text[1:]\n",
    "        adjusted_domestic_gross.append(adj_domestic_gross_str.replace(',', ''))\n",
    "        release_str = franchise.find_all('td')[5].text\n",
    "        release.append(pd.to_datetime(release_str))\n",
    "        franchise_name.append(soup.find('h1').text)\n",
    "        movie_webpage.append(site_link + franchise.find('a')['href'])\n",
    "        \n",
    "        df = pd.DataFrame(\n",
    "    {'franchise_name': franchise_name,\n",
    "     'movie_title': movie_title,\n",
    "     'rank': rank,\n",
    "     'studio': studio,\n",
    "     'adjusted_domestic_gross': adjusted_domestic_gross,\n",
    "#     'n_theaters': theaters,\n",
    "     'release_date': release,\n",
    "    })\n",
    "    sec = random.uniform(5,15)\n",
    "    print(f'Sleeping for ~{int(sec)} seconds before next scrape.')\n",
    "    time.sleep(sec)\n",
    "df.tail()"
   ]
  },
  {
   "cell_type": "code",
   "execution_count": null,
   "metadata": {},
   "outputs": [],
   "source": [
    "\"\"\"\n",
    "url = 'https://www.the-numbers.com/movies/franchises'\n",
    "response = requests.get(url)\n",
    "response.status_code\n",
    "# print(response.text)\n",
    "page = response.text\n",
    "soup = BeautifulSoup(page,\"lxml\")\n",
    "# soup.find_all('table')\n",
    "# soup.find('table').find_all('tr')[1:]\n",
    "\n",
    "movie_count = 0\n",
    "single = 0\n",
    "franchises = 0\n",
    "for link in soup.find('table').find_all('tr')[1:]:\n",
    "    print(link.find('a')['href']) # put .text instead of ['href'] for the name of the franchise\n",
    "    n = int(link.find_all('td')[1].text)\n",
    "    print(link.find_all('td')[1].text) # print the next column - the number of movies\n",
    "    movie_count += int(link.find_all('td')[1].text)\n",
    "    if n == 1:\n",
    "        single += 1\n",
    "    franchises += 1\n",
    "print(movie_count)\n",
    "print(franchises)\n",
    "print(single)\n",
    "\"\"\""
   ]
  }
 ],
 "metadata": {
  "kernelspec": {
   "display_name": "Python 3",
   "language": "python",
   "name": "python3"
  },
  "language_info": {
   "codemirror_mode": {
    "name": "ipython",
    "version": 3
   },
   "file_extension": ".py",
   "mimetype": "text/x-python",
   "name": "python",
   "nbconvert_exporter": "python",
   "pygments_lexer": "ipython3",
   "version": "3.6.5"
  }
 },
 "nbformat": 4,
 "nbformat_minor": 2
}
